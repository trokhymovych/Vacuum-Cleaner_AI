{
 "cells": [
  {
   "cell_type": "markdown",
   "metadata": {},
   "source": [
    "# Імпортування необхідних бібліотек"
   ]
  },
  {
   "cell_type": "code",
   "execution_count": 51,
   "metadata": {
    "ExecuteTime": {
     "end_time": "2019-01-09T16:53:20.109958Z",
     "start_time": "2019-01-09T16:53:20.106356Z"
    }
   },
   "outputs": [],
   "source": [
    "import matplotlib.pyplot as plt\n",
    "import numpy as np\n",
    "import random\n",
    "import time\n",
    "import seaborn as sns"
   ]
  },
  {
   "cell_type": "markdown",
   "metadata": {},
   "source": [
    "# Реалізація Алгоритму"
   ]
  },
  {
   "cell_type": "code",
   "execution_count": 52,
   "metadata": {
    "ExecuteTime": {
     "end_time": "2019-01-09T16:55:38.658986Z",
     "start_time": "2019-01-09T16:55:38.616083Z"
    }
   },
   "outputs": [],
   "source": [
    "class VacuumCleaner():\n",
    "    def __init__(self, size=5, sym_empty='░░ ', sym_trash='▓▓ ',\n",
    "                 sym_vacuum='〄 '):\n",
    "        \n",
    "        self.size = size\n",
    "        self.sym_empty = sym_empty\n",
    "        self.sym_trash = sym_trash\n",
    "        self.sym_vacuum = sym_vacuum\n",
    "        \n",
    "        \n",
    "        self.matrix_trash = np.zeros((self.size, self.size))\n",
    "        self.matrix_vacuum = np.zeros((self.size, self.size))\n",
    "        \n",
    "        \n",
    "        \n",
    "        self.string_mapping = np.vectorize(lambda s: self.sym_empty if s == 0\n",
    "                                    else self.sym_trash if s == 1\n",
    "                                    else self.sym_vacuum)\n",
    "        self.field = np.zeros((self.size, self.size))\n",
    "        \n",
    "        \n",
    "        self.v_path_indexes = [[1, 1],[1, 2],[1, 3],[2, 3],[3, 3],[3, 2],[3, 1],[2, 1]]\n",
    "        \n",
    "        self.v_path3 = np.zeros((self.size, self.size))\n",
    "        self.v_path3[0, 0] = 1\n",
    "        self.v_path3[0, (self.size - 1)] = 1\n",
    "        self.v_path3[(self.size - 1),0] = 1\n",
    "        self.v_path3[(self.size - 1), (self.size - 1)] = 1\n",
    "        self.v_path3_indexes = np.array(np.where(self.v_path3 == 1)).transpose()\n",
    "        \n",
    "        self.directions = [(-1, 0), (0, 1), (1, 0), (0, -1)]\n",
    "        \n",
    "        self.speed = 0.1\n",
    "        self.style = 'stat'\n",
    "        \n",
    "        self.path1_indexes = [[0,0],[0,1],[0, 2],[1,0]]\n",
    "        self.path2_indexes = [[0,4],[1,4],[2, 4],[0,3]]\n",
    "        self.path3_indexes = [[4,2],[4,3],[4, 4],[3,4]]\n",
    "        self.path4_indexes = [[2,0],[3,0],[4, 0],[4,1]]\n",
    "        \n",
    "        self.path1_indexes_2 = [[2,0],[3,0],[4, 0]]\n",
    "        self.path2_indexes_2 = [[0,0],[0,1],[0, 2]]\n",
    "        self.path3_indexes_2 = [[0,4],[1,4],[2, 4]]\n",
    "        self.path4_indexes_2 = [[4,2],[4,3],[4, 4]]\n",
    "        \n",
    "        \n",
    "        self.path_pathik = [self.path1_indexes_2,self.path2_indexes_2,self.path3_indexes_2,self.path4_indexes_2]\n",
    "        \n",
    "        self.tricky_place = [[1,1], [1,3], [3,3], [3,1]]\n",
    "        \n",
    "        self.path_in_1_indexes = [[0,2],[1,2]]\n",
    "        self.path_in_2_indexes = [[2,3],[2,4]]\n",
    "        self.path_in_3_indexes = [[3,2],[4,2]]\n",
    "        self.path_in_4_indexes = [[2,0],[2,1]]\n",
    "        \n",
    "        self.pathpath = [self.path_in_1_indexes,\n",
    "                         self.path2_indexes, self.path_in_2_indexes,\n",
    "                         self.path3_indexes, self.path_in_3_indexes,\n",
    "                         self.path4_indexes, self.path_in_4_indexes, self.path1_indexes]\n",
    "        \n",
    "        self.trash_all = list()\n",
    "        self.trash_around = []\n",
    "        \n",
    "        \n",
    "    def output_iteration(self, i):\n",
    "        if (i%999==0) & (self.style!='print'):\n",
    "            IPython.display.clear_output(wait=True)\n",
    "#             print('Крок {:>4d} '.format(i + 1))\n",
    "            self.calculate_trash()\n",
    "#             print('Кількість сміття на полі: {:.1f}'.format(self.trash))\n",
    "            if self.style=='print':\n",
    "                self.print_field()\n",
    "#             print('Trash arround'+ str(self.trash_around))\n",
    "#             print('All trash'+ str(self.trash_all))\n",
    "            time.sleep(self.speed)\n",
    "            \n",
    "            \n",
    "        if(self.style=='print'):\n",
    "            IPython.display.clear_output(wait=True)\n",
    "            print('Крок {:>4d} '.format(i + 1))\n",
    "            self.calculate_trash()\n",
    "            print('Кількість сміття на полі: {:.1f} одиниць'.format(self.trash))\n",
    "            if self.style=='print':\n",
    "                self.print_field()\n",
    "#             print('Trash arround'+ str(self.trash_around))\n",
    "#             print('All trash'+ str(self.trash_all))\n",
    "            time.sleep(self.speed)\n",
    "            \n",
    "        self.calculate_trash()\n",
    "        return self.trash\n",
    "    \n",
    "    def print_field(self):\n",
    "        print('\\n'.join(''.join(str(cell) for cell in row) for row in self.string_mapping(self.field)))\n",
    "    \n",
    "    def calculate_trash(self):\n",
    "        self.trash = (self.field == 1).sum()\n",
    "        \n",
    "        \n",
    "    def check_near_trash(self):\n",
    "        np.random.shuffle(self.directions)\n",
    "        \n",
    "        self.stepped = False\n",
    "        min_distance = self.size * self.size\n",
    "        \n",
    "        # defining cells with trash\n",
    "        self.trash_around = []\n",
    "        for direction in self.directions:\n",
    "            possible_v_pos = tuple(np.array(self.v_pos) + np.array(direction))\n",
    "            if possible_v_pos[0] in range(self.size) and possible_v_pos[1] in range(self.size) and self.field[possible_v_pos] == 1:\n",
    "                self.trash_around.append(possible_v_pos)\n",
    "                if possible_v_pos not in self.trash_all:\n",
    "                    self.trash_all.append(possible_v_pos)\n",
    "        \n",
    "        # step to the \"best\" trashy cell\n",
    "        if len(self.trash_around)!=0:\n",
    "            for possible_v_pos in self.trash_around: \n",
    "                if np.sort(np.linalg.norm(abs(self.v_path3_indexes - possible_v_pos), axis = 1))[0] < min_distance:\n",
    "                    min_distance = np.sort(np.linalg.norm(abs(self.v_path3_indexes - possible_v_pos), axis = 1))[0]\n",
    "                    self.best_v_pos = possible_v_pos\n",
    "            self.prev = self.v_pos #remember previos state\n",
    "            self.field[self.v_pos] = 0\n",
    "            self.field[self.best_v_pos] = 2\n",
    "            self.v_pos = self.best_v_pos\n",
    "            self.trash_all.remove(self.best_v_pos)\n",
    "            self.stepped =  True\n",
    "                \n",
    "        # If there is not trash around\n",
    "        # First - Go to cells where is trash for sure:\n",
    "        min_distance = self.size * self.size\n",
    "        \n",
    "        trash_target_selected = 0 \n",
    "        if (not self.stepped) and (len(self.trash_all)!=0):\n",
    "            for direction in self.directions:\n",
    "                possible_v_pos = tuple(np.array(self.v_pos) + np.array(direction)) \n",
    "                \n",
    "                if np.sort(np.linalg.norm(abs(np.array(self.trash_all) - possible_v_pos), axis = 1))[0] < min_distance:\n",
    "                    min_distance = np.sort(np.linalg.norm(abs(np.array(self.trash_all) - possible_v_pos), axis = 1))[0]\n",
    "                    if min_distance<=2:\n",
    "                        self.best_v_pos = possible_v_pos\n",
    "                        trash_target_selected = 1\n",
    "        \n",
    "        # Secound - Logic\n",
    "        min_distance = self.size * self.size\n",
    "        if (not self.stepped) and (trash_target_selected==0):\n",
    "            for direction in self.directions:\n",
    "                possible_v_pos = tuple(np.array(self.v_pos) + np.array(direction)) \n",
    "                if self.v_pos not in self.tricky_place:\n",
    "                    if np.sort(np.linalg.norm(abs(np.array(self.v_path) - possible_v_pos), axis = 1))[0] < min_distance:\n",
    "                        min_distance = np.sort(np.linalg.norm(abs(np.array(self.v_path) - possible_v_pos), axis = 1))[0]\n",
    "                        self.best_v_pos = possible_v_pos\n",
    "                else: \n",
    "                    ind = self.tricky_place.index(self.v_pos)\n",
    "                    if np.sort(np.linalg.norm(abs(np.array(self.path_pathik[ind]) - possible_v_pos), axis = 1))[0] < min_distance:\n",
    "                        min_distance = np.sort(np.linalg.norm(abs(np.array(self.path_pathik[ind]) - possible_v_pos), axis = 1))[0]\n",
    "                        self.best_v_pos = possible_v_pos\n",
    "    \n",
    "    def run_process(self, iterations=100, speed=0.1,\n",
    "                    path_type='right', style='stat'):\n",
    "        self.iterations = iterations\n",
    "        self.path_type = path_type\n",
    "        self.speed = speed\n",
    "        self.style = style\n",
    "\n",
    "        self.o = 0\n",
    "        \n",
    "        self.v_pos = (0,0)\n",
    "        self.field[self.v_pos] = 2\n",
    "        res=0 \n",
    "        self.prev = (0,0)\n",
    "        for i in range(self.iterations):\n",
    "            \n",
    "            self.v_path = self.pathpath[self.o]\n",
    "\n",
    "            if list(self.v_pos) in self.v_path:\n",
    "                if self.pathpath.index(self.v_path)==7:\n",
    "                    self.o=0\n",
    "                else:\n",
    "                    self.o=self.pathpath.index(self.v_path)+1\n",
    "                self.v_path = self.pathpath[self.o]\n",
    "                \n",
    "            if list(self.v_pos) in self.v_path:\n",
    "                if self.pathpath.index(self.v_path)==7:\n",
    "                    self.o=0\n",
    "                else:\n",
    "                    self.o=self.pathpath.index(self.v_path)+1\n",
    "                self.v_path = self.pathpath[self.o]\n",
    "            \n",
    "            if np.sort(np.linalg.norm(abs(np.array(self.v_path) - self.v_pos), axis = 1))[0] > 2:\n",
    "                for path in self.pathpath:\n",
    "                    key=0\n",
    "                    if np.sort(np.linalg.norm(abs(np.array(path) - self.v_pos), axis = 1))[0] == 0:\n",
    "                        self.v_path = path\n",
    "                        self.o=self.pathpath.index(self.v_path)\n",
    "                        key = 1\n",
    "                    if key == 0:\n",
    "                        if np.sort(np.linalg.norm(abs(np.array(path) - self.v_pos), axis = 1))[0] < 2:\n",
    "                            self.v_path = path\n",
    "                            self.o=self.pathpath.index(self.v_path)\n",
    "                            key = 1\n",
    "            if list(self.v_pos) in self.v_path:\n",
    "                if self.pathpath.index(self.v_path)==7:\n",
    "                    self.o=0\n",
    "                else:\n",
    "                    self.o=self.pathpath.index(self.v_path)+1\n",
    "                self.v_path = self.pathpath[self.o]\n",
    "                        \n",
    "            self.free_field_indexes = np.array(np.where(self.field == 0)).transpose()\n",
    "            index_to_fill = random.choice(self.free_field_indexes)\n",
    "            if np.random.rand() > 0.5:\n",
    "                self.field[index_to_fill[0],index_to_fill[1]] = 1\n",
    "                self.matrix_trash[index_to_fill[0],index_to_fill[1]]+=1\n",
    "            \n",
    "            # output\n",
    "            res = self.output_iteration(i)\n",
    "\n",
    "            # check trash\n",
    "            # move and clear if trash is near with little trick\n",
    "            self.check_near_trash()\n",
    "            \n",
    "            # move to/along vacuum path if there isn't any trash\n",
    "            if not self.stepped:\n",
    "                self.prev = self.v_pos #remember previos state\n",
    "                self.field[self.v_pos] = 0\n",
    "                self.field[self.best_v_pos] = 2\n",
    "                self.matrix_vacuum[self.best_v_pos]+=1\n",
    "                self.v_pos = self.best_v_pos \n",
    "            \n",
    "            # output\n",
    "            res = self.output_iteration(i)\n",
    "        return res"
   ]
  },
  {
   "cell_type": "markdown",
   "metadata": {},
   "source": [
    "# Демонстрація роботи запропонованого алгоритму на 100 ітерацій\n",
    "### За бажанням можна збільшити або зменшити швидкість виконання ітерацій алгоритму змінюючи параметр \"speed\""
   ]
  },
  {
   "cell_type": "code",
   "execution_count": 54,
   "metadata": {
    "ExecuteTime": {
     "end_time": "2019-01-09T16:58:34.558122Z",
     "start_time": "2019-01-09T16:58:13.697032Z"
    },
    "scrolled": false
   },
   "outputs": [
    {
     "name": "stdout",
     "output_type": "stream",
     "text": [
      "Крок  100 \n",
      "Кількість сміття на полі: 3.0 одиниць\n",
      "░░ ░░ ░░ ░░ ░░ \n",
      "░░ ░░ ░░ ░░ ░░ \n",
      "░░ ▓▓ ░░ ░░ ░░ \n",
      "░░ 〄 ░░ ░░ ░░ \n",
      "▓▓ ░░ ▓▓ ░░ ░░ \n"
     ]
    },
    {
     "data": {
      "text/plain": [
       "3"
      ]
     },
     "execution_count": 54,
     "metadata": {},
     "output_type": "execute_result"
    }
   ],
   "source": [
    "v = VacuumCleaner(5)\n",
    "v.run_process(iterations=100, speed=0.1,style='print')"
   ]
  },
  {
   "cell_type": "markdown",
   "metadata": {
    "ExecuteTime": {
     "end_time": "2019-01-09T17:04:05.668582Z",
     "start_time": "2019-01-09T17:04:05.665300Z"
    }
   },
   "source": [
    "# Статистичний аналіз роботи алгоритму\n",
    "### За метрику взято кількість клітинок заповнених сміттям після 100-тої ітерації роботи алгоритму. \n",
    "### Було проведено 1000 експериментів, а фінальний результат був визначений середнім значенням метрик цих експериментів.\n",
    "### Також в даній секції представлено певний статистичний аналіз, а саме розподіл того де в середньому найбільше випадало сміття на полі, та де в середньому найбільше знаходився пилосос."
   ]
  },
  {
   "cell_type": "code",
   "execution_count": 56,
   "metadata": {
    "ExecuteTime": {
     "end_time": "2019-01-09T17:04:18.639613Z",
     "start_time": "2019-01-09T17:04:18.623900Z"
    }
   },
   "outputs": [],
   "source": [
    "import numpy as np\n",
    "np.random.seed(0)\n",
    "import seaborn as sns\n",
    "sns.set()"
   ]
  },
  {
   "cell_type": "code",
   "execution_count": 65,
   "metadata": {
    "ExecuteTime": {
     "end_time": "2019-01-09T17:08:36.560843Z",
     "start_time": "2019-01-09T17:08:10.178118Z"
    }
   },
   "outputs": [
    {
     "name": "stdout",
     "output_type": "stream",
     "text": [
      "В середньому на полі залишається  3.988 клітинок заповнених сміттям\n"
     ]
    },
    {
     "data": {
      "image/png": "[encoded data removed]",
      "text/plain": [
       "<Figure size 432x288 with 2 Axes>"
      ]
     },
     "metadata": {},
     "output_type": "display_data"
    }
   ],
   "source": [
    "trash = []\n",
    "vacuum = []\n",
    "avg_res = []\n",
    "\n",
    "# running 1000 times the vacuum algorithm\n",
    "for i in range(1000):\n",
    "    v = VacuumCleaner(5)\n",
    "    avg_res.append(v.run_process(iterations=100, speed=0, path_type='1', style='not print'))\n",
    "    trash.append(v.matrix_trash)\n",
    "    vacuum.append(v.matrix_vacuum)\n",
    "\n",
    "# for analytics\n",
    "mean_trash = np.zeros((5, 5))\n",
    "for i in range(5):\n",
    "    for j in range(5):\n",
    "        mean_trash[i,j] = np.mean([hh[i,j] for hh in trash])\n",
    "        \n",
    "mean_vacuum = np.zeros((5, 5))\n",
    "for i in range(5):\n",
    "    for j in range(5):\n",
    "        mean_vacuum[i,j] = np.mean([hh[i,j] for hh in vacuum])\n",
    "\n",
    "print(\"В середньому на полі залишається  \" + str(np.mean(avg_res))+' клітинок заповнених сміттям' )\n",
    "import numpy as np; np.random.seed(0)\n",
    "import seaborn as sns; sns.set()\n",
    "ax = sns.heatmap(mean_trash)\n",
    "plt.title('Trash distribution')\n",
    "plt.show()"
   ]
  },
  {
   "cell_type": "code",
   "execution_count": 67,
   "metadata": {
    "ExecuteTime": {
     "end_time": "2019-01-09T17:08:42.336411Z",
     "start_time": "2019-01-09T17:08:42.231014Z"
    }
   },
   "outputs": [
    {
     "data": {
      "image/png": "[encoded data removed]",
      "text/plain": [
       "<Figure size 432x288 with 2 Axes>"
      ]
     },
     "metadata": {},
     "output_type": "display_data"
    }
   ],
   "source": [
    "import numpy as np; np.random.seed(0)\n",
    "import seaborn as sns; sns.set()\n",
    "ax = sns.heatmap(mean_vacuum)\n",
    "plt.title('Vacuum distribution')\n",
    "plt.show()"
   ]
  },
  {
   "cell_type": "code",
   "execution_count": null,
   "metadata": {},
   "outputs": [],
   "source": []
  }
 ],
 "metadata": {
  "hide_input": false,
  "kernelspec": {
   "display_name": "Python 3",
   "language": "python",
   "name": "python3"
  },
  "language_info": {
   "codemirror_mode": {
    "name": "ipython",
    "version": 3
   },
   "file_extension": ".py",
   "mimetype": "text/x-python",
   "name": "python",
   "nbconvert_exporter": "python",
   "pygments_lexer": "ipython3",
   "version": "3.6.6"
  }
 },
 "nbformat": 4,
 "nbformat_minor": 2
}
