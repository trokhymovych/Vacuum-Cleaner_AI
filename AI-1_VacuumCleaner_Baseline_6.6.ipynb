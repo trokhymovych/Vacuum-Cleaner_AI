{
 "cells": [
  {
   "cell_type": "code",
   "execution_count": 27,
   "metadata": {
    "ExecuteTime": {
     "end_time": "2019-01-08T19:18:35.376279Z",
     "start_time": "2019-01-08T19:18:35.371823Z"
    }
   },
   "outputs": [],
   "source": [
    "import matplotlib.pyplot as plt\n",
    "import numpy as np\n",
    "import random\n",
    "import time\n",
    "import IPython\n",
    "import seaborn as sns\n",
    "import pylab as pl\n",
    "from tqdm import tqdm_notebook"
   ]
  },
  {
   "cell_type": "code",
   "execution_count": 21,
   "metadata": {
    "ExecuteTime": {
     "end_time": "2019-01-08T19:17:42.007263Z",
     "start_time": "2019-01-08T19:17:41.989696Z"
    }
   },
   "outputs": [],
   "source": [
    "class VacuumCleaner():\n",
    "    def __init__(self, size=5, sym_empty='░░ ', sym_trash='▓▓ ',\n",
    "                 sym_vacuum='〄 '):\n",
    "        self.size = size\n",
    "        self.sym_empty = sym_empty\n",
    "        self.sym_trash = sym_trash\n",
    "        self.sym_vacuum = sym_vacuum\n",
    "        self.matrix_trash = np.zeros((self.size, self.size))\n",
    "        self.matrix_vacuum = np.zeros((self.size, self.size))\n",
    "        \n",
    "        self.string_mapping = np.vectorize(lambda s: self.sym_empty if s == 0\n",
    "                                    else self.sym_trash if s == 1\n",
    "                                    else self.sym_vacuum)\n",
    "        \n",
    "        self.field = np.zeros((self.size, self.size))\n",
    "        \n",
    "        self.directions = [(-1, 0), (0, 1), (1, 0), (0, -1)]\n",
    "        \n",
    "        self.speed = 0.1\n",
    "        self.style = 'stat'\n",
    "        \n",
    "    def output_iteration(self, i):\n",
    "        if (i%999==0) & (self.style!='print'):\n",
    "            IPython.display.clear_output(wait=True)\n",
    "            print('Крок {:>4d} '.format(i + 1))\n",
    "            self.calculate_trash()\n",
    "            print('Кількість сміття на полі: {:.1f}'.format(self.trash))\n",
    "            if self.style=='print':\n",
    "                self.print_field()\n",
    "            time.sleep(self.speed)\n",
    "        if(self.style=='print'):\n",
    "            IPython.display.clear_output(wait=True)\n",
    "            print('Крок {:>4d} '.format(i + 1))\n",
    "            self.calculate_trash()\n",
    "            print('Кількість сміття на полі: {:.1f} одиниць'.format(self.trash))\n",
    "            if self.style=='print':\n",
    "                self.print_field()\n",
    "            time.sleep(self.speed)\n",
    "        self.calculate_trash()\n",
    "        return self.trash\n",
    "    \n",
    "    def print_field(self):\n",
    "        print('\\n'.join(''.join(str(cell) for cell in row) for row in self.string_mapping(self.field)))\n",
    "    \n",
    "    def calculate_trash(self):\n",
    "        self.trash = (self.field == 1).sum()\n",
    "    \n",
    "    def check_near_trash(self):\n",
    "        np.random.shuffle(self.directions)\n",
    "        \n",
    "        self.stepped = False\n",
    "        min_distance = self.size * self.size\n",
    "        \n",
    "        for direction in self.directions:\n",
    "            possible_v_pos = tuple(np.array(self.v_pos) + np.array(direction))\n",
    "            if possible_v_pos==self.prev:\n",
    "                break\n",
    "            if possible_v_pos[0] in range(self.size) and possible_v_pos[1] in range(self.size) and self.field[possible_v_pos] == 1:\n",
    "                self.field[self.v_pos] = 0\n",
    "                self.field[possible_v_pos] = 2\n",
    "                self.v_pos = possible_v_pos\n",
    "                self.stepped =  True\n",
    "                break\n",
    "    \n",
    "    def run_process(self, iterations=100, speed=0.1,\n",
    "                    path_type='1', style='stat'):\n",
    "        self.iterations = iterations\n",
    "        self.path_type = path_type\n",
    "        self.speed = speed\n",
    "        self.style = style\n",
    "\n",
    "        self.v_pos = (0, 0)\n",
    "        self.field[self.v_pos] = 2\n",
    "        res=0 \n",
    "        self.prev = self.v_pos\n",
    "        for i in range(self.iterations):\n",
    "            self.free_field_indexes = np.array(np.where(self.field == 0)).transpose()\n",
    "            index_to_fill = random.choice(self.free_field_indexes)\n",
    "            if np.random.rand() > 0.5:\n",
    "                self.field[index_to_fill[0],index_to_fill[1]] = 1\n",
    "                self.matrix_trash[index_to_fill[0],index_to_fill[1]]+=1\n",
    "            # output\n",
    "            self.output_iteration(i)\n",
    "            \n",
    "            # check trash\n",
    "            # move and clear if trash is near\n",
    "            self.check_near_trash()\n",
    "            # move to/along vacuum path if there isn't any trash\n",
    "            \n",
    "            if not self.stepped:\n",
    "                key=0\n",
    "                while (key==0):\n",
    "                    possible = [tuple(np.array(self.v_pos)+np.array(x)) for x in self.directions]\n",
    "                    self.best_v_pos = random.choice(possible)\n",
    "                    if self.best_v_pos[0] in range(self.size) and self.best_v_pos[1] in range(self.size):\n",
    "                        key=1\n",
    "                self.field[self.v_pos] = 0\n",
    "                self.field[self.best_v_pos] = 2\n",
    "                self.matrix_vacuum[self.best_v_pos]+=1\n",
    "                self.v_pos = self.best_v_pos \n",
    "            \n",
    "            # output\n",
    "            res = self.output_iteration(i)\n",
    "            \n",
    "            self.prev = self.v_pos #remember previos state\n",
    "        return res"
   ]
  },
  {
   "cell_type": "code",
   "execution_count": 23,
   "metadata": {
    "ExecuteTime": {
     "end_time": "2019-01-08T19:17:53.862542Z",
     "start_time": "2019-01-08T19:17:51.402288Z"
    }
   },
   "outputs": [
    {
     "name": "stdout",
     "output_type": "stream",
     "text": [
      "Крок  100 \n",
      "Кількість сміття на полі: 4.0 одиниць\n",
      "░░ ▓▓ ░░ ░░ 〄 \n",
      "▓▓ ░░ ░░ ░░ ░░ \n",
      "░░ ▓▓ ░░ ░░ ░░ \n",
      "░░ ░░ ░░ ░░ ░░ \n",
      "▓▓ ░░ ░░ ░░ ░░ \n"
     ]
    },
    {
     "data": {
      "text/plain": [
       "4"
      ]
     },
     "execution_count": 23,
     "metadata": {},
     "output_type": "execute_result"
    }
   ],
   "source": [
    "v = VacuumCleaner(5)\n",
    "v.run_process(iterations=100, speed=0.01, path_type='1', style='print')\n",
    "#pl.clf()"
   ]
  },
  {
   "cell_type": "markdown",
   "metadata": {},
   "source": [
    "# Observation tests"
   ]
  },
  {
   "cell_type": "code",
   "execution_count": 24,
   "metadata": {
    "ExecuteTime": {
     "end_time": "2019-01-08T19:18:04.743485Z",
     "start_time": "2019-01-08T19:18:04.738849Z"
    }
   },
   "outputs": [],
   "source": [
    "import numpy as np; np.random.seed(0)\n",
    "import seaborn as sns; \n",
    "sns.set()"
   ]
  },
  {
   "cell_type": "code",
   "execution_count": 30,
   "metadata": {
    "ExecuteTime": {
     "end_time": "2019-01-08T19:20:22.582087Z",
     "start_time": "2019-01-08T19:20:07.958998Z"
    }
   },
   "outputs": [
    {
     "name": "stdout",
     "output_type": "stream",
     "text": [
      "Крок    1 \n",
      "Кількість сміття на полі: 0.0\n",
      "\n",
      "6.666\n"
     ]
    },
    {
     "data": {
      "text/plain": [
       "Text(0.5,1,'Trash distribution')"
      ]
     },
     "execution_count": 30,
     "metadata": {},
     "output_type": "execute_result"
    },
    {
     "data": {
      "image/png": "[encoded data removed]",
      "text/plain": [
       "<Figure size 432x288 with 2 Axes>"
      ]
     },
     "metadata": {},
     "output_type": "display_data"
    }
   ],
   "source": [
    "trash = []\n",
    "vacuum = []\n",
    "avg_res = []\n",
    "\n",
    "# running 1000 times the vacuum algorithm\n",
    "for i in tqdm_notebook(range(1000)):\n",
    "    v = VacuumCleaner(5)\n",
    "    avg_res.append(v.run_process(iterations=100, speed=0))\n",
    "    trash.append(v.matrix_trash)\n",
    "    vacuum.append(v.matrix_vacuum)\n",
    "\n",
    "# for analytics\n",
    "mean_trash = np.zeros((5, 5))\n",
    "for i in range(5):\n",
    "    for j in range(5):\n",
    "        mean_trash[i,j] = np.mean([hh[i,j] for hh in trash])\n",
    "        \n",
    "mean_vacuum = np.zeros((5, 5))\n",
    "for i in range(5):\n",
    "    for j in range(5):\n",
    "        mean_vacuum[i,j] = np.mean([hh[i,j] for hh in vacuum])\n",
    "\n",
    "print(np.mean(avg_res))\n",
    "import numpy as np; np.random.seed(0)\n",
    "import seaborn as sns; sns.set()\n",
    "ax = sns.heatmap(mean_trash)\n",
    "plt.title('Trash distribution')"
   ]
  },
  {
   "cell_type": "code",
   "execution_count": 31,
   "metadata": {
    "ExecuteTime": {
     "end_time": "2019-01-08T19:20:22.724560Z",
     "start_time": "2019-01-08T19:20:22.584463Z"
    }
   },
   "outputs": [
    {
     "data": {
      "text/plain": [
       "Text(0.5,1,'vacuum distribution')"
      ]
     },
     "execution_count": 31,
     "metadata": {},
     "output_type": "execute_result"
    },
    {
     "data": {
      "image/png": "[encoded data removed]",
      "text/plain": [
       "<Figure size 432x288 with 2 Axes>"
      ]
     },
     "metadata": {},
     "output_type": "display_data"
    }
   ],
   "source": [
    "import numpy as np; np.random.seed(0)\n",
    "import seaborn as sns; sns.set()\n",
    "ax = sns.heatmap(mean_vacuum)\n",
    "plt.title('vacuum distribution')"
   ]
  },
  {
   "cell_type": "markdown",
   "metadata": {},
   "source": [
    "# Baseline algorithm result\n",
    "### Average number of trash is approx. 6.6"
   ]
  },
  {
   "cell_type": "code",
   "execution_count": null,
   "metadata": {},
   "outputs": [],
   "source": []
  }
 ],
 "metadata": {
  "hide_input": false,
  "kernelspec": {
   "display_name": "Python 3",
   "language": "python",
   "name": "python3"
  },
  "language_info": {
   "codemirror_mode": {
    "name": "ipython",
    "version": 3
   },
   "file_extension": ".py",
   "mimetype": "text/x-python",
   "name": "python",
   "nbconvert_exporter": "python",
   "pygments_lexer": "ipython3",
   "version": "3.6.6"
  }
 },
 "nbformat": 4,
 "nbformat_minor": 2
}
